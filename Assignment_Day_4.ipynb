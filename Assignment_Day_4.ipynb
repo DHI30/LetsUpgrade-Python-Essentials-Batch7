{
  "nbformat": 4,
  "nbformat_minor": 0,
  "metadata": {
    "colab": {
      "name": "Assignment Day 4.ipynb",
      "provenance": []
    },
    "kernelspec": {
      "name": "python3",
      "display_name": "Python 3"
    }
  },
  "cells": [
    {
      "cell_type": "markdown",
      "metadata": {
        "id": "pACDIWtdnxD1",
        "colab_type": "text"
      },
      "source": [
        "#  Assignment Day 4 \n",
        "# Question 1\n",
        "# Print the first ArmStrong number in the range of 1042000 to 702648265 and exit the loop as soon\n",
        "# as you encounter the first armstrong number, Use while loop\n",
        "\n",
        "\n",
        "\n",
        "#                 OutputThe first armstrong number is -----------"
      ]
    },
    {
      "cell_type": "code",
      "metadata": {
        "id": "JTy4_FQwc40j",
        "colab_type": "code",
        "colab": {
          "base_uri": "https://localhost:8080/",
          "height": 176
        },
        "outputId": "222f6473-954a-4a72-e202-ac06d902355e"
      },
      "source": [
        "lower = 1042000\n",
        "upper = 702648265\n",
        "\n",
        "for num in range(lower, upper + 1):\n",
        "\n",
        "   # order of number\n",
        "   order = len(str(num))\n",
        "    \n",
        "   # initialize sum\n",
        "   sum = 0\n",
        "\n",
        "   temp = num\n",
        "   while temp > 0:\n",
        "       digit = temp % 10\n",
        "       sum += digit ** order\n",
        "       temp //= 10\n",
        "\n",
        "   if num == sum:\n",
        "       print(num)\n"
      ],
      "execution_count": null,
      "outputs": [
        {
          "output_type": "stream",
          "text": [
            "1741725\n",
            "4210818\n",
            "9800817\n",
            "9926315\n",
            "24678050\n",
            "24678051\n",
            "88593477\n",
            "146511208\n",
            "472335975\n"
          ],
          "name": "stdout"
        }
      ]
    },
    {
      "cell_type": "markdown",
      "metadata": {
        "id": "6SYJQFx6nqze",
        "colab_type": "text"
      },
      "source": [
        ""
      ]
    }
  ]
}