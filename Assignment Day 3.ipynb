{
 "cells": [
  {
   "cell_type": "code",
   "execution_count": null,
   "metadata": {},
   "outputs": [],
   "source": [
    "#Assignment Day 3 "
   ]
  },
  {
   "cell_type": "code",
   "execution_count": null,
   "metadata": {},
   "outputs": [],
   "source": [
    "#   Question 1\n",
    "#   You all are Pilots, you want to land a plane safely, so altitude required for landing a plane is\n",
    "#   1000ft, it it is less than tell pilot to land the plane, or it is more than that but less than 5000ft ask\n",
    "#   the pilot to “come down to 1000ft”, else if it more than 5000ft ask the pilot to “go around and try later”\n",
    "\n",
    "\n",
    "#                 Example : Input - 1000\n",
    "#                                           Output - Safe to Land\n",
    "#                 Example : Input - 4500\n",
    "#                                           Output - Bring down to 1000\n",
    "#                Example : Input - 6500 \n",
    "#                                           Output - Turn Around\n",
    "\n"
   ]
  },
  {
   "cell_type": "code",
   "execution_count": 1,
   "metadata": {},
   "outputs": [
    {
     "name": "stdout",
     "output_type": "stream",
     "text": [
      "enter the altitude:1000\n",
      "Safe to Land\n"
     ]
    }
   ],
   "source": [
    "\n",
    "altitude=int(input(\"enter the altitude:\"))\n",
    "if(altitude==1000):\n",
    "    print(\"Safe to Land\")\n",
    "elif (altitude<5000):\n",
    "    print(\"Bring down to 1000\")\n",
    "elif (altitude>5000):\n",
    "    print(\"Turn around\")\n"
   ]
  },
  {
   "cell_type": "code",
   "execution_count": null,
   "metadata": {},
   "outputs": [],
   "source": [
    "#  Question 2\n",
    "#  Using for loop please print all the prime numbers between 1- 200 using FOR LOOP AND RANG function.\n"
   ]
  },
  {
   "cell_type": "code",
   "execution_count": 1,
   "metadata": {},
   "outputs": [
    {
     "name": "stdout",
     "output_type": "stream",
     "text": [
      "2\n",
      "3\n",
      "5\n",
      "7\n",
      "11\n",
      "13\n",
      "17\n",
      "19\n",
      "23\n",
      "29\n",
      "31\n",
      "37\n",
      "41\n",
      "43\n",
      "47\n",
      "53\n",
      "59\n",
      "61\n",
      "67\n",
      "71\n",
      "73\n",
      "79\n",
      "83\n",
      "89\n",
      "97\n",
      "101\n",
      "103\n",
      "107\n",
      "109\n",
      "113\n",
      "127\n",
      "131\n",
      "137\n",
      "139\n",
      "149\n",
      "151\n",
      "157\n",
      "163\n",
      "167\n",
      "173\n",
      "179\n",
      "181\n",
      "191\n",
      "193\n",
      "197\n",
      "199\n"
     ]
    }
   ],
   "source": [
    "for num in range(1,200):\n",
    "    if num>1:\n",
    "        for j in range(2,num):\n",
    "            if(num%j)==0:\n",
    "                 break\n",
    "        else:\n",
    "            print(num)\n"
   ]
  },
  {
   "cell_type": "code",
   "execution_count": null,
   "metadata": {},
   "outputs": [],
   "source": []
  }
 ],
 "metadata": {
  "kernelspec": {
   "display_name": "Python 3",
   "language": "python",
   "name": "python3"
  },
  "language_info": {
   "codemirror_mode": {
    "name": "ipython",
    "version": 3
   },
   "file_extension": ".py",
   "mimetype": "text/x-python",
   "name": "python",
   "nbconvert_exporter": "python",
   "pygments_lexer": "ipython3",
   "version": "3.8.3"
  }
 },
 "nbformat": 4,
 "nbformat_minor": 4
}
