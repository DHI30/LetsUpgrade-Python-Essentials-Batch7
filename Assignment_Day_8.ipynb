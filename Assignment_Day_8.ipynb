{
  "nbformat": 4,
  "nbformat_minor": 0,
  "metadata": {
    "colab": {
      "name": "Assignment Day 8.ipynb",
      "provenance": []
    },
    "kernelspec": {
      "name": "python3",
      "display_name": "Python 3"
    }
  },
  "cells": [
    {
      "cell_type": "markdown",
      "metadata": {
        "id": "XcYWmQwx6ejo",
        "colab_type": "text"
      },
      "source": [
        "Question 1\n",
        "\n",
        "\n",
        "Write a decorator function for your taking input for you any kind of function you want to build,\n",
        "For example - You make a fibonacci series function,in which your input range is been defined by\n",
        "the decorator program input.\n"
      ]
    },
    {
      "cell_type": "code",
      "metadata": {
        "id": "xZF3Z48T6acf",
        "colab_type": "code",
        "colab": {}
      },
      "source": [
        "def inputfunction(functionality_function):\n",
        "    def wrap_function():\n",
        "        a=int(input('Enter the First number-'))\n",
        "        b=int(input('Enter the Second number-'))\n",
        "        functionality_function(a,b)\n",
        "    return wrap_function"
      ],
      "execution_count": 1,
      "outputs": []
    },
    {
      "cell_type": "code",
      "metadata": {
        "id": "visp_pfn6s55",
        "colab_type": "code",
        "colab": {}
      },
      "source": [
        "@inputfunction\n",
        "def fibonacci(a,b):\n",
        "    count=0\n",
        "    nterms=int(input('Enter the range of fibonacci series-'))\n",
        "    if nterms<=0:\n",
        "        print('Enter the positive number')\n",
        "    elif nterms==1:\n",
        "        print('Fibonacci series is')\n",
        "        print(a)\n",
        "    else:\n",
        "        print('Fibonacci series is')\n",
        "        while count<=nterms:\n",
        "            print(a,end=' ')\n",
        "            f=a+b\n",
        "            a=b\n",
        "            b=f\n",
        "            count+=1"
      ],
      "execution_count": 2,
      "outputs": []
    },
    {
      "cell_type": "code",
      "metadata": {
        "id": "1mOzkOkY6xtD",
        "colab_type": "code",
        "colab": {
          "base_uri": "https://localhost:8080/",
          "height": 108
        },
        "outputId": "0a67645f-1fcf-483c-c807-a1e19065f1b5"
      },
      "source": [
        "fibonacci()"
      ],
      "execution_count": 3,
      "outputs": [
        {
          "output_type": "stream",
          "text": [
            "Enter the First number-1\n",
            "Enter the Second number-2\n",
            "Enter the range of fibonacci series-20\n",
            "Fibonacci series is\n",
            "1 2 3 5 8 13 21 34 55 89 144 233 377 610 987 1597 2584 4181 6765 10946 17711 "
          ],
          "name": "stdout"
        }
      ]
    },
    {
      "cell_type": "code",
      "metadata": {
        "id": "6bec4IFi67rZ",
        "colab_type": "code",
        "colab": {}
      },
      "source": [
        "\n",
        "@inputfunction\n",
        "def addition(a,b):\n",
        "    print('Addition is-', a+b)"
      ],
      "execution_count": 4,
      "outputs": []
    },
    {
      "cell_type": "code",
      "metadata": {
        "id": "VQYc7Poq6-K5",
        "colab_type": "code",
        "colab": {
          "base_uri": "https://localhost:8080/",
          "height": 72
        },
        "outputId": "24f72120-2089-462d-d562-f5cc3dbcbc40"
      },
      "source": [
        "addition()"
      ],
      "execution_count": 5,
      "outputs": [
        {
          "output_type": "stream",
          "text": [
            "Enter the First number-10\n",
            "Enter the Second number-20\n",
            "Addition is- 30\n"
          ],
          "name": "stdout"
        }
      ]
    },
    {
      "cell_type": "markdown",
      "metadata": {
        "id": "qIuKfLye7Ff3",
        "colab_type": "text"
      },
      "source": [
        "Question 2\n",
        "For this challenge you need to develop a Python program to open a file in read only mode and try\n",
        "writing something to it and handle the subsequent errors using Exception Handling."
      ]
    },
    {
      "cell_type": "code",
      "metadata": {
        "id": "S8bH83My7Gx3",
        "colab_type": "code",
        "colab": {
          "base_uri": "https://localhost:8080/",
          "height": 35
        },
        "outputId": "d5fea643-cf4e-481a-fad0-a7fd8e361c75"
      },
      "source": [
        "\n",
        "fhand=open('test.txt','w')\n",
        "fhand.write(input())\n",
        "fhand.close()"
      ],
      "execution_count": 6,
      "outputs": [
        {
          "output_type": "stream",
          "text": [
            " My name is Pradyumna\n"
          ],
          "name": "stdout"
        }
      ]
    },
    {
      "cell_type": "code",
      "metadata": {
        "id": "kIjo1oDT7PTO",
        "colab_type": "code",
        "colab": {
          "base_uri": "https://localhost:8080/",
          "height": 35
        },
        "outputId": "a6425350-3b09-4782-aa47-2b2f55ab5b07"
      },
      "source": [
        "fread=open('test.txt','r')\n",
        "readfile=fread.read()\n",
        "print(readfile)\n",
        "fread.close()"
      ],
      "execution_count": 7,
      "outputs": [
        {
          "output_type": "stream",
          "text": [
            " My name is Pradyumna\n"
          ],
          "name": "stdout"
        }
      ]
    },
    {
      "cell_type": "code",
      "metadata": {
        "id": "8HVHyqBx7Txo",
        "colab_type": "code",
        "colab": {
          "base_uri": "https://localhost:8080/",
          "height": 54
        },
        "outputId": "dbe89a6b-23f1-4ef9-ab6a-4229533cfe55"
      },
      "source": [
        "try:\n",
        "    writefile=fread.write(input())\n",
        "    print(writefile)\n",
        "except:\n",
        "    print('File Cannot be Written Since it is Open in Read Mode')"
      ],
      "execution_count": 8,
      "outputs": [
        {
          "output_type": "stream",
          "text": [
            "I will in Pune\n",
            "File Cannot be Written Since it is Open in Read Mode\n"
          ],
          "name": "stdout"
        }
      ]
    }
  ]
}